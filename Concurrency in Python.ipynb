{
 "cells": [
  {
   "cell_type": "markdown",
   "id": "f988c31f-f32f-49a3-8491-a77d81dc686f",
   "metadata": {},
   "source": [
    "Module 6 Programming Assignment - Concurrency in Python"
   ]
  },
  {
   "cell_type": "markdown",
   "id": "fe48f587-0be3-4e05-8e7a-1ba9fa558b11",
   "metadata": {},
   "source": [
    "13.1 - Write the current date to today.txt"
   ]
  },
  {
   "cell_type": "code",
   "execution_count": 21,
   "id": "55c2828a-9e48-42fb-8f47-065d66e9eba1",
   "metadata": {},
   "outputs": [],
   "source": [
    "\n",
    "import datetime\n",
    "\n",
    "# Get today's date\n",
    "today = datetime.date.today()\n",
    "\n",
    "# Open a file and write the date as a string\n",
    "with open('today.txt', 'w') as file:\n",
    "    file.write(today.isoformat())\n"
   ]
  },
  {
   "cell_type": "markdown",
   "id": "0493a899-fc25-4f81-ac75-0ff92f52fae5",
   "metadata": {},
   "source": [
    "13.2 - Read the text file today.txt into the string today_string"
   ]
  },
  {
   "cell_type": "code",
   "execution_count": 22,
   "id": "400129a9-37ad-4b32-9d8a-2df0fb21318c",
   "metadata": {},
   "outputs": [
    {
     "name": "stdout",
     "output_type": "stream",
     "text": [
      "2025-04-28\n"
     ]
    }
   ],
   "source": [
    "# Open the file and read its content into a string\n",
    "with open('today.txt', 'r') as file:\n",
    "    today_string = file.read()\n",
    "\n",
    "print(today_string)"
   ]
  },
  {
   "cell_type": "markdown",
   "id": "9633cb7e-2bb8-47be-9a2f-0b966cbab3d3",
   "metadata": {},
   "source": [
    "13.3 - Parse th date from the today_string"
   ]
  },
  {
   "cell_type": "code",
   "execution_count": 19,
   "id": "5be66195-02cc-4a8b-9ceb-18688e2aeffa",
   "metadata": {},
   "outputs": [
    {
     "name": "stdout",
     "output_type": "stream",
     "text": [
      "2025-04-27\n"
     ]
    }
   ],
   "source": [
    "\n",
    "\n",
    "# Convert the string back to a datetime object\n",
    "parsed_date = datetime.datetime.strptime(today_string, '%Y-%m-%d').date()\n",
    "\n",
    "print(parsed_date)\n"
   ]
  },
  {
   "cell_type": "markdown",
   "id": "eddc8d01-56f4-4981-a467-a9b50bdba4ed",
   "metadata": {},
   "source": [
    "15.1 Use the multiprocessing to create 3 seperate processes. Make each one wait a random number of seconds between zero and one, print the current time and then exit."
   ]
  },
  {
   "cell_type": "code",
   "execution_count": 20,
   "id": "b8f048a7-c27d-48de-888e-7733a17c1f04",
   "metadata": {},
   "outputs": [],
   "source": [
    "\n",
    "\n",
    "import multiprocessing\n",
    "import time\n",
    "import random\n",
    "from datetime import datetime\n",
    "\n",
    "def wait_and_print():\n",
    "    # Wait for a random time between zero and one second\n",
    "    time.sleep(random.random())\n",
    "    # Print current time\n",
    "    print(f\"Current time: {datetime.now()}\")\n",
    "\n",
    "# Create three separate processes\n",
    "if __name__ == '__main__':\n",
    "    processes = []\n",
    "    for _ in range(3):\n",
    "        p = multiprocessing.Process(target=wait_and_print)\n",
    "        processes.append(p)\n",
    "        p.start()\n",
    "\n",
    "    for p in processes:\n",
    "        p.join()"
   ]
  }
 ],
 "metadata": {
  "kernelspec": {
   "display_name": "Python 3 (ipykernel)",
   "language": "python",
   "name": "python3"
  },
  "language_info": {
   "codemirror_mode": {
    "name": "ipython",
    "version": 3
   },
   "file_extension": ".py",
   "mimetype": "text/x-python",
   "name": "python",
   "nbconvert_exporter": "python",
   "pygments_lexer": "ipython3",
   "version": "3.12.7"
  }
 },
 "nbformat": 4,
 "nbformat_minor": 5
}
