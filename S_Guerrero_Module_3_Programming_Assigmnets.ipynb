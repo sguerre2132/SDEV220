{
 "cells": [
  {
   "cell_type": "markdown",
   "id": "ada4e22f-e564-4b77-b739-9c9a356498a7",
   "metadata": {},
   "source": [
    "Module 3 Programming Excersises"
   ]
  },
  {
   "cell_type": "markdown",
   "id": "b9917801-c1f8-45c9-8dd1-b307cdea4a05",
   "metadata": {},
   "source": [
    "7.4\n",
    "Make a list called \"things\" with three string elements using 'mozzarella', 'cinderella', and 'salmonella'."
   ]
  },
  {
   "cell_type": "code",
   "execution_count": 8,
   "id": "457b2a37-c592-4964-b303-a02b13fef404",
   "metadata": {},
   "outputs": [
    {
     "name": "stdout",
     "output_type": "stream",
     "text": [
      "['mozzarella', 'cinderella', 'salmonella']\n"
     ]
    }
   ],
   "source": [
    "things = ['mozzarella', 'cinderella', 'salmonella']\n",
    "print(things)"
   ]
  },
  {
   "cell_type": "markdown",
   "id": "00e2070f-d307-4637-ac5e-32e55a263a05",
   "metadata": {},
   "source": [
    "7.5\n",
    "Capitalize the element in the 'things' list that refers to a person"
   ]
  },
  {
   "cell_type": "code",
   "execution_count": 11,
   "id": "613b8108-7f8d-4113-8cfa-ec626c2bb0fe",
   "metadata": {},
   "outputs": [
    {
     "name": "stdout",
     "output_type": "stream",
     "text": [
      "Cinderella\n"
     ]
    }
   ],
   "source": [
    "person = things[1].capitalize()\n",
    "print(person)"
   ]
  },
  {
   "cell_type": "markdown",
   "id": "d36b0e23-7e87-4a4b-93e2-8bd5fd0fb58a",
   "metadata": {},
   "source": [
    "The string element in index 1 'cinderella' did change to 'Cinderella'"
   ]
  },
  {
   "cell_type": "markdown",
   "id": "fed52b3e-0f02-4fdc-a67a-818db37df2a9",
   "metadata": {},
   "source": [
    "7.6\n",
    "Make the element that refers to cheese (mozzarella) letters all uppercase then the list will be printed"
   ]
  },
  {
   "cell_type": "code",
   "execution_count": 10,
   "id": "44c6ce0b-e314-4137-b7fe-f2f5ca804478",
   "metadata": {},
   "outputs": [
    {
     "name": "stdout",
     "output_type": "stream",
     "text": [
      "MOZZARELLA\n"
     ]
    }
   ],
   "source": [
    "cheese = things[0].upper()\n",
    "print(cheese)\n"
   ]
  },
  {
   "cell_type": "markdown",
   "id": "e197770b-9525-465d-8515-b55d18517e02",
   "metadata": {},
   "source": [
    "7.7\n",
    "Remove the 'disease' element in the list 'things', collect Nobel Prize and print the list."
   ]
  },
  {
   "cell_type": "code",
   "execution_count": 13,
   "id": "2f4e22c2-0930-44c3-a5ef-e26c5f35800b",
   "metadata": {},
   "outputs": [
    {
     "name": "stdout",
     "output_type": "stream",
     "text": [
      "['mozzarella', 'cinderella']\n"
     ]
    }
   ],
   "source": [
    "del things[2]\n",
    "print(things)"
   ]
  },
  {
   "cell_type": "code",
   "execution_count": null,
   "id": "7a69fede-0bc0-437c-9c2d-218b2a111fe4",
   "metadata": {},
   "outputs": [],
   "source": [
    "9.1\n",
    "Define a function called 'good' that returns a list with string elements 'Harry', 'Ron', 'Hermoine'"
   ]
  },
  {
   "cell_type": "code",
   "execution_count": 14,
   "id": "a09b6292-779d-4f50-8698-346cd9cf600f",
   "metadata": {},
   "outputs": [
    {
     "name": "stdout",
     "output_type": "stream",
     "text": [
      "['Harry', 'Ron', 'Hermoine']\n"
     ]
    }
   ],
   "source": [
    "def good():\n",
    "    return ['Harry', 'Ron', 'Hermoine']\n",
    "\n",
    "print(good())"
   ]
  },
  {
   "cell_type": "code",
   "execution_count": null,
   "id": "aa3bb40c-92ed-407e-9d3b-a534a9ef8657",
   "metadata": {},
   "outputs": [],
   "source": [
    "9.2\n",
    "Define a generator function called 'get_odds()' that returns the number from range (10), using a for loop and printing the third value returned."
   ]
  },
  {
   "cell_type": "code",
   "execution_count": 18,
   "id": "8dadb4ca-5d28-466c-8cdc-8dab54e4c305",
   "metadata": {},
   "outputs": [
    {
     "name": "stdout",
     "output_type": "stream",
     "text": [
      "The third number is: 5\n"
     ]
    }
   ],
   "source": [
    "\n",
    "def get_odds():\n",
    "    for number in range(10):\n",
    "        if number % 2 != 0: \n",
    "            yield number\n",
    "\n",
    "count = 0\n",
    "for odd in get_odds():\n",
    "    count += 1\n",
    "    if count == 3:\n",
    "        print(\"The third number is:\", odd)\n",
    "        break\n",
    "\n",
    "            "
   ]
  },
  {
   "cell_type": "code",
   "execution_count": null,
   "id": "b8a74e37-df8c-4637-851c-74cf4a464832",
   "metadata": {},
   "outputs": [],
   "source": []
  }
 ],
 "metadata": {
  "kernelspec": {
   "display_name": "Python 3 (ipykernel)",
   "language": "python",
   "name": "python3"
  },
  "language_info": {
   "codemirror_mode": {
    "name": "ipython",
    "version": 3
   },
   "file_extension": ".py",
   "mimetype": "text/x-python",
   "name": "python",
   "nbconvert_exporter": "python",
   "pygments_lexer": "ipython3",
   "version": "3.12.7"
  }
 },
 "nbformat": 4,
 "nbformat_minor": 5
}
