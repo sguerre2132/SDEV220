{
 "cells": [
  {
   "cell_type": "markdown",
   "id": "ef925ca0-f76a-4cbd-80b8-f9cfa62eb42c",
   "metadata": {},
   "source": [
    "Module 5 Programming Assignment: Testing\n",
    "\n",
    "The purpose of this assignment is to practice and implement learning from the learning activities this chapter (specifically testing)"
   ]
  },
  {
   "cell_type": "markdown",
   "id": "c20b5100-cd93-44c5-a81f-26e41a4d9312",
   "metadata": {},
   "source": [
    "Created a new function and saved it to test_sum.py\n",
    "\n"
   ]
  },
  {
   "cell_type": "code",
   "execution_count": null,
   "id": "a15166c1-cc16-455e-9e71-cccd9e7f30ae",
   "metadata": {},
   "outputs": [],
   "source": [
    "def sum(a,b):\n",
    "    return a + b"
   ]
  },
  {
   "cell_type": "markdown",
   "id": "4cd71ede-00c4-4603-82c7-670cd06cecd3",
   "metadata": {},
   "source": [
    "Created a new test file called test.py"
   ]
  },
  {
   "cell_type": "code",
   "execution_count": null,
   "id": "af45efa8-70b0-447d-b58e-6fe995e3b354",
   "metadata": {},
   "outputs": [],
   "source": [
    "#test file test.py\n",
    "\n",
    "import unittest # imports from standard library\n",
    "from test_sum import sum # imports sum from test_sum.py file\n",
    "\n",
    "\n",
    "class TestSum(unittest.TestCase): \n",
    "    def test_add(self):\n",
    "        # test cases \n",
    "        self.assertEqual(sum(2, 3), 5)# checks if the sum of (2,3) is equal to 5\n",
    "        self.assertEqual(sum(-1, 1), 0)# chacks if the sum of (-1,1) equals 0\n",
    "        self.assertEqual(sum(0, 0), 0)# chacks if the sum of (0,0) equals 0\n",
    "\n",
    "\n",
    "if __name__ == '__main__':\n",
    "    unittest.main()"
   ]
  },
  {
   "cell_type": "markdown",
   "id": "1c7b244b-f5d8-4e2f-a7ee-4e5ef815c24c",
   "metadata": {},
   "source": [
    "test summary:\n",
    "When I ran this test the output was \n",
    ".\n",
    "----------------------------------------------------------------\n",
    "Ran 1 test in 0.000s\n",
    "\n",
    "OK\n",
    "\n",
    "\n",
    "This indicated that the test cases ran correctly and passed, meaning that sum() function was working correctly."
   ]
  }
 ],
 "metadata": {
  "kernelspec": {
   "display_name": "Python 3 (ipykernel)",
   "language": "python",
   "name": "python3"
  },
  "language_info": {
   "codemirror_mode": {
    "name": "ipython",
    "version": 3
   },
   "file_extension": ".py",
   "mimetype": "text/x-python",
   "name": "python",
   "nbconvert_exporter": "python",
   "pygments_lexer": "ipython3",
   "version": "3.12.7"
  }
 },
 "nbformat": 4,
 "nbformat_minor": 5
}
