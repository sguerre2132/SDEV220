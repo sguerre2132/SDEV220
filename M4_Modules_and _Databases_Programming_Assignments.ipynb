{
 "cells": [
  {
   "cell_type": "markdown",
   "id": "2980d82f-9df6-4f6d-ae83-723850a40c33",
   "metadata": {},
   "source": [
    "Module 4: Programming Assignments"
   ]
  },
  {
   "cell_type": "markdown",
   "id": "631c80e3-1c3e-4846-871e-c2a3a66a7e21",
   "metadata": {},
   "source": [
    "11.1 Create Module and Import\n",
    "\n",
    "Create a file called 'zoo.py', with a function called 'hours()' that will print out the string that says 'Open 9-5 daily'. Then the interactive interpreter will be used to import the zoo module and call the 'hours()' function."
   ]
  },
  {
   "cell_type": "code",
   "execution_count": 6,
   "id": "52c5a857-9802-4151-a82e-674d8b7bab8c",
   "metadata": {},
   "outputs": [],
   "source": [
    "with open(\"zoo.py\", \"w\") as f:\n",
    "    f.write(\"def hours():\\n\")\n",
    "    f.write(\"    print('Open 9-5 daily')\\n\")\n"
   ]
  },
  {
   "cell_type": "code",
   "execution_count": 7,
   "id": "8194c774-e122-4e7b-9774-c4e9a374b14d",
   "metadata": {},
   "outputs": [
    {
     "name": "stdout",
     "output_type": "stream",
     "text": [
      "Open 9-5 daily\n"
     ]
    }
   ],
   "source": [
    "import zoo\n",
    "\n",
    "zoo.hours()"
   ]
  },
  {
   "cell_type": "markdown",
   "id": "578f6c33-d984-47e5-b92d-3319ecdbc63c",
   "metadata": {},
   "source": [
    "11.2 \n",
    "The 'zoo' module will be imported in the interactive interpreter as 'menagerie' and call the 'hours' function."
   ]
  },
  {
   "cell_type": "code",
   "execution_count": 8,
   "id": "db9e1524-7a63-4db1-8a25-1f705972dd24",
   "metadata": {},
   "outputs": [
    {
     "name": "stdout",
     "output_type": "stream",
     "text": [
      "Open 9-5 daily\n"
     ]
    }
   ],
   "source": [
    "import zoo as menagerie\n",
    "\n",
    "menagerie.hours()\n"
   ]
  },
  {
   "cell_type": "markdown",
   "id": "42a0a8bc-42ad-4c65-a19b-7cdeec010ac1",
   "metadata": {},
   "source": [
    "16.8\n",
    "\n",
    "Use the sqlalchemy module to connect to the sqlite3 database books.db that you just made in exercise 16.4. As in 16.6, select and print the title column from the book table in alphabetical order."
   ]
  },
  {
   "cell_type": "code",
   "execution_count": 34,
   "id": "33394c7e-c2e2-442e-ac75-edaf90ed0773",
   "metadata": {},
   "outputs": [],
   "source": [
    "import sqlite3\n",
    "\n",
    "# Connect to SQLite database (creates it if it doesn't exist)\n",
    "conn = sqlite3.connect('books.db')\n",
    "cur = conn.cursor()\n",
    "\n",
    "# Create the book table\n",
    "cur.execute('''\n",
    "    CREATE TABLE IF NOT EXISTS book (\n",
    "        title TEXT,\n",
    "        author TEXT,\n",
    "        year INTEGER\n",
    "    )\n",
    "''')\n",
    "\n",
    "# Commit changes and close connection\n",
    "conn.commit()\n",
    "conn.close()\n",
    "\n",
    "\n",
    "\n",
    "conn = sqlite3.connect('books.db')\n",
    "cur = conn.cursor()\n",
    "\n",
    "# Insert sample data\n",
    "cur.executemany('INSERT INTO book (title, author, year) VALUES (?, ?, ?)', books)\n",
    "\n",
    "conn.commit()\n",
    "conn.close()\n"
   ]
  },
  {
   "cell_type": "code",
   "execution_count": 36,
   "id": "0d9fb472-4602-436a-b76a-9862d1b166a9",
   "metadata": {},
   "outputs": [
    {
     "name": "stdout",
     "output_type": "stream",
     "text": [
      "Love in the Time of Cholera\n",
      "The House on Mango Street\n",
      "This is How you Lose Her\n"
     ]
    }
   ],
   "source": [
    "import sqlite3\n",
    "\n",
    "# Connect to the database\n",
    "conn = sqlite3.connect('books.db')\n",
    "cur = conn.cursor()\n",
    "\n",
    "# Execute the SELECT query to get titles alphabetically\n",
    "cur.execute('SELECT title FROM book ORDER BY title')\n",
    "\n",
    "# Fetch and print results\n",
    "titles = cur.fetchall()\n",
    "for title in titles:\n",
    "    print(title[0])\n",
    "\n",
    "conn.close()\n",
    "\n",
    "\n"
   ]
  }
 ],
 "metadata": {
  "kernelspec": {
   "display_name": "Python 3 (ipykernel)",
   "language": "python",
   "name": "python3"
  },
  "language_info": {
   "codemirror_mode": {
    "name": "ipython",
    "version": 3
   },
   "file_extension": ".py",
   "mimetype": "text/x-python",
   "name": "python",
   "nbconvert_exporter": "python",
   "pygments_lexer": "ipython3",
   "version": "3.12.7"
  }
 },
 "nbformat": 4,
 "nbformat_minor": 5
}
