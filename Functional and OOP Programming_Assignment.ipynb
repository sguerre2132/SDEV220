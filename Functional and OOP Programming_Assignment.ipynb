{
 "cells": [
  {
   "cell_type": "markdown",
   "id": "73569069-f9ec-45f7-9b48-8252a4f876d5",
   "metadata": {},
   "source": [
    "OOP Programming:"
   ]
  },
  {
   "cell_type": "markdown",
   "id": "897f70f2-f355-454d-a007-fc73911fa70e",
   "metadata": {},
   "source": [
    "Sort an Array of 0s, 1s, and 2s"
   ]
  },
  {
   "cell_type": "code",
   "execution_count": 17,
   "id": "9265815a-5045-4897-a086-11f1a1254839",
   "metadata": {},
   "outputs": [
    {
     "name": "stdout",
     "output_type": "stream",
     "text": [
      "Sorted array: [0, 0, 0, 0, 0, 1, 1, 1, 1, 1, 2, 2]\n"
     ]
    }
   ],
   "source": [
    "class Solution:\n",
    "    # Function to sort an array of 0s, 1s, and 2s\n",
    "    def sort012(self, arr):\n",
    "        # code here\n",
    "        low = 0\n",
    "        mid = 0\n",
    "        high = len(arr) -1\n",
    "        \n",
    "        while mid <= high:\n",
    "            if arr[mid] == 0:\n",
    "                arr[low], arr[mid] = arr[mid], arr[low]\n",
    "                low += 1\n",
    "                mid += 1\n",
    "            elif arr[mid] == 1:\n",
    "                mid += 1\n",
    "            else:\n",
    "                arr[mid], arr[high] = arr[high], arr[mid]\n",
    "                high -= 1\n",
    "                \n",
    "        return arr\n",
    "sol = Solution()\n",
    "arr2 = [0, 1, 1, 0, 1, 2, 1, 2, 0, 0, 0, 1]\n",
    "print(\"Sorted array:\", sol.sort012(arr2))\n",
    "\n"
   ]
  },
  {
   "cell_type": "markdown",
   "id": "c97cd454-fcb6-49a7-9b32-5a285145aefa",
   "metadata": {},
   "source": [
    "Functional Programming:"
   ]
  },
  {
   "cell_type": "markdown",
   "id": "572a0df8-918e-4d73-a6e8-d2e7f4a14d9e",
   "metadata": {},
   "source": [
    "Binary Search: Given a sorted array arr and an integer k, find the position(0-based indexing) at which k is present in the array using binary search."
   ]
  },
  {
   "cell_type": "code",
   "execution_count": 14,
   "id": "cbd7c80e-6a56-4df5-b3da-08134d243fb5",
   "metadata": {},
   "outputs": [
    {
     "name": "stdout",
     "output_type": "stream",
     "text": [
      "3\n"
     ]
    }
   ],
   "source": [
    "class Solution:\n",
    "    def binarysearch(self, arr, k):\n",
    "        low = 0\n",
    "        high = len(arr) - 1\n",
    "        result = -1\n",
    "\n",
    "        while low <= high:\n",
    "            mid = (low + high) // 2\n",
    "            if arr[mid] == k:\n",
    "                result = mid\n",
    "                high = mid - 1\n",
    "            elif arr[mid] < k:\n",
    "                low = mid + 1\n",
    "            else:\n",
    "                high = mid - 1\n",
    "\n",
    "        return result\n",
    "\n",
    "\n",
    "sol = Solution()\n",
    "arr = [1, 2, 3, 4, 5]\n",
    "k = 4\n",
    "print(sol.binarysearch(arr, k)) "
   ]
  },
  {
   "cell_type": "code",
   "execution_count": null,
   "id": "5f0a997f-1e5f-436c-a3b1-ad7f69d5faa0",
   "metadata": {},
   "outputs": [],
   "source": []
  }
 ],
 "metadata": {
  "kernelspec": {
   "display_name": "Python 3 (ipykernel)",
   "language": "python",
   "name": "python3"
  },
  "language_info": {
   "codemirror_mode": {
    "name": "ipython",
    "version": 3
   },
   "file_extension": ".py",
   "mimetype": "text/x-python",
   "name": "python",
   "nbconvert_exporter": "python",
   "pygments_lexer": "ipython3",
   "version": "3.12.7"
  }
 },
 "nbformat": 4,
 "nbformat_minor": 5
}
